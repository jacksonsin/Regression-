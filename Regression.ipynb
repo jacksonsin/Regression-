{
 "cells": [
  {
   "cell_type": "markdown",
   "metadata": {},
   "source": [
    "# 1.0 Import Libraries"
   ]
  },
  {
   "cell_type": "code",
   "execution_count": 1,
   "metadata": {},
   "outputs": [
    {
     "name": "stderr",
     "output_type": "stream",
     "text": [
      "Using Theano backend.\n",
      "WARNING (theano.tensor.blas): Using NumPy C-API based implementation for BLAS functions.\n"
     ]
    }
   ],
   "source": [
    "import warnings\n",
    "warnings.filterwarnings('ignore')\n",
    "\n",
    "import keras\n",
    "from keras.models import Sequential\n",
    "from keras.layers import Activation\n",
    "from keras.layers.core import Dense\n",
    "from keras.optimizers import Adam\n",
    "from keras.metrics import categorical_crossentropy\n",
    "from sklearn.preprocessing import MinMaxScaler\n",
    "from sklearn.metrics import mean_squared_error\n",
    "from sklearn.utils import shuffle\n",
    "from sklearn import ensemble\n",
    "import matplotlib.pyplot as plt\n",
    "import pandas as pd\n",
    "import numpy as np"
   ]
  },
  {
   "cell_type": "markdown",
   "metadata": {},
   "source": [
    "# 2.0 Preprocessing Data"
   ]
  },
  {
   "cell_type": "code",
   "execution_count": 2,
   "metadata": {},
   "outputs": [],
   "source": [
    "# Activate to load dataset from local directory\n",
    "#train_data = pd.read_csv(\"F:/train.csv\",index_col=\"0\")\n",
    "#test_data = pd.read_csv(\"F:/test.csv\",index_col=\"0\")\n",
    "#submissions = pd.read_csv(\"F:/submission.csv\")\n",
    "#print(submissions)"
   ]
  },
  {
   "cell_type": "code",
   "execution_count": 3,
   "metadata": {},
   "outputs": [],
   "source": [
    "url = 'http://archive.ics.uci.edu/ml/machine-learning-databases/communities/communities.data'\n",
    "train_data = pd.read_csv(url, header=None, na_values=['?'])\n",
    "train_data.head()\n",
    "train_data[127].describe()\n",
    "train_data.drop([0, 1, 2, 3, 4], axis=1, inplace=True)\n",
    "train_data.dropna(inplace=True)\n",
    "train_data.shape\n",
    "train_x = train_data.drop(127, axis=1)\n",
    "#print(train_x)\n",
    "train_y = train_data[127]\n",
    "#print(train_y)"
   ]
  },
  {
   "cell_type": "markdown",
   "metadata": {},
   "source": [
    "# 3.0 Splitting dataset"
   ]
  },
  {
   "cell_type": "code",
   "execution_count": 4,
   "metadata": {},
   "outputs": [],
   "source": [
    "#from sklearn.cross_validation import train_test_split ## old version\n",
    "from sklearn.model_selection import train_test_split\n",
    "X_train, X_test, y_train, y_test = train_test_split(train_x, train_y, random_state=1)"
   ]
  },
  {
   "cell_type": "markdown",
   "metadata": {},
   "source": [
    "# 4.0 Building Training Models"
   ]
  },
  {
   "cell_type": "markdown",
   "metadata": {},
   "source": [
    "## 4.1 Linear Model"
   ]
  },
  {
   "cell_type": "code",
   "execution_count": 5,
   "metadata": {},
   "outputs": [
    {
     "name": "stdout",
     "output_type": "stream",
     "text": [
      "[-3.66188167e+00  6.98124465e-01 -2.61955467e-01 -2.85270027e-01\n",
      " -1.64740837e-01  2.46972333e-01 -1.09290051e+00 -5.96857796e-01\n",
      "  1.11200239e+00 -7.21968931e-01  4.27346598e+00 -2.28040268e-01\n",
      "  8.04875769e-01 -2.57934732e-01 -2.63458023e-01 -1.04616958e+00\n",
      "  6.07784197e-01  7.73552561e-01  5.96468029e-02  6.90215922e-01\n",
      "  2.16759430e-02 -4.87802949e-01 -5.18858404e-01  1.39478815e-01\n",
      " -1.24417942e-01  3.15003821e-01 -1.52633736e-01 -9.65003927e-01\n",
      "  1.17142163e+00 -3.08546690e-02 -9.29085548e-01  1.24654586e-01\n",
      "  1.98104506e-01  7.30804821e-01 -1.77337294e-01  8.32927588e-02\n",
      "  3.46045601e-01  5.01837338e-01  1.57062958e+00 -4.13478807e-01\n",
      "  1.39350802e+00 -3.49428114e+00  7.09577818e-01 -8.32141352e-01\n",
      " -1.39984927e+00  1.02482840e+00  2.13855006e-01 -6.18937325e-01\n",
      "  5.28954490e-01  7.98294890e-02  5.93688560e-02 -1.68582667e-01\n",
      "  7.31264051e-01 -1.39635208e+00  2.38507704e-01  5.50621439e-01\n",
      " -5.61447867e-01  6.18989764e-01  2.55517024e+00 -3.71769599e+00\n",
      "  7.09191935e-01  3.82041439e-01  8.23752836e-01 -1.67703547e+00\n",
      " -1.73150450e+00  9.90120171e-01 -5.72745697e-01 -1.45877295e+00\n",
      "  8.68032144e-01  5.15959984e-01  3.14453207e-02  2.01869791e-01\n",
      "  9.65291940e-02  2.13034099e+00 -6.95374423e-02  4.62477023e-02\n",
      " -1.10565955e-02 -1.34313780e-02 -1.04515494e-01 -8.76985171e-01\n",
      "  4.26781907e-01 -1.85405795e-01 -8.16215517e-01 -2.86596076e-01\n",
      " -1.56110708e-01  1.76468580e+00 -5.70163730e-01 -7.54066704e-02\n",
      " -1.74212697e-01 -8.89747220e-02  2.26336403e-01  1.38030073e+00\n",
      " -3.37304744e-01 -2.57856611e-02  8.91299188e-02  3.49876793e-01\n",
      " -1.22428557e+00 -3.67941205e+01 -6.95699750e-01  2.95269279e-01\n",
      " -1.48590316e-03  2.34206416e-01 -7.09533984e-03  3.67152957e+01\n",
      " -8.90665109e-02  3.79550678e-02  3.19375782e-01  4.60708905e-01\n",
      "  1.41090069e-01 -6.67017320e-01 -2.59035245e-01 -4.60600755e-04\n",
      " -1.51868232e-02  7.54768410e-02 -2.36105498e-03 -1.50328233e-01\n",
      "  1.85575558e-01  6.31979224e-01 -1.50253625e-01  1.87638817e-02\n",
      " -3.38095851e-02 -4.46104032e-01]\n"
     ]
    }
   ],
   "source": [
    "from sklearn.linear_model import LinearRegression\n",
    "linreg = LinearRegression()\n",
    "linreg.fit(X_train, y_train)\n",
    "\n",
    "# examine the coefficients\n",
    "print(linreg.coef_)\n",
    "\n",
    "# make predictions\n",
    "y_pred = linreg.predict(X_test)"
   ]
  },
  {
   "cell_type": "markdown",
   "metadata": {},
   "source": [
    "### Calculate RMSE"
   ]
  },
  {
   "cell_type": "code",
   "execution_count": 6,
   "metadata": {},
   "outputs": [
    {
     "name": "stdout",
     "output_type": "stream",
     "text": [
      "0.2338136764948683\n"
     ]
    }
   ],
   "source": [
    "# calculate RMSE\n",
    "from sklearn import metrics\n",
    "import numpy as np\n",
    "print(np.sqrt(metrics.mean_squared_error(y_test, y_pred)))"
   ]
  },
  {
   "cell_type": "markdown",
   "metadata": {},
   "source": [
    "## 4.2 Lasso regression"
   ]
  },
  {
   "cell_type": "code",
   "execution_count": 7,
   "metadata": {},
   "outputs": [
    {
     "name": "stdout",
     "output_type": "stream",
     "text": [
      "[ 0.          0.          0.00891952 -0.27423369  0.          0.\n",
      "  0.         -0.         -0.          0.          0.          0.\n",
      " -0.         -0.         -0.         -0.19414627  0.          0.\n",
      " -0.         -0.         -0.         -0.         -0.         -0.\n",
      " -0.          0.          0.          0.          0.04335664 -0.\n",
      "  0.         -0.          0.03491474 -0.         -0.06685424  0.\n",
      "  0.         -0.          0.10575313  0.          0.          0.00890807\n",
      "  0.         -0.1378172  -0.30954312 -0.         -0.         -0.\n",
      " -0.          0.          0.          0.          0.         -0.\n",
      "  0.          0.          0.          0.          0.          0.\n",
      " -0.          0.          0.          0.         -0.          0.\n",
      " -0.         -0.          0.          0.05257892 -0.          0.\n",
      " -0.         -0.          0.          0.          0.          0.\n",
      "  0.         -0.         -0.         -0.         -0.         -0.\n",
      " -0.         -0.          0.         -0.         -0.          0.\n",
      "  0.13861081  0.         -0.         -0.          0.          0.\n",
      "  0.          0.         -0.          0.          0.          0.\n",
      "  0.03347908  0.         -0.01130055 -0.          0.          0.\n",
      "  0.00044205  0.          0.          0.         -0.          0.\n",
      " -0.         -0.          0.04153636  0.         -0.          0.00719672\n",
      " -0.000666    0.        ]\n",
      "[ 0.          0.          0.         -0.03974695  0.          0.\n",
      "  0.          0.          0.         -0.          0.          0.\n",
      " -0.         -0.         -0.         -0.         -0.          0.\n",
      " -0.         -0.         -0.         -0.         -0.         -0.\n",
      " -0.         -0.         -0.          0.          0.          0.\n",
      "  0.         -0.          0.         -0.         -0.          0.\n",
      "  0.         -0.          0.          0.          0.          0.\n",
      "  0.         -0.         -0.27503063 -0.         -0.         -0.\n",
      " -0.          0.          0.          0.          0.          0.\n",
      "  0.          0.          0.          0.          0.          0.\n",
      " -0.          0.          0.          0.          0.          0.\n",
      "  0.         -0.          0.          0.         -0.          0.\n",
      " -0.         -0.          0.          0.         -0.          0.\n",
      "  0.         -0.         -0.         -0.         -0.         -0.\n",
      " -0.         -0.          0.          0.         -0.          0.\n",
      "  0.          0.          0.         -0.          0.          0.\n",
      "  0.          0.         -0.          0.          0.          0.\n",
      "  0.          0.         -0.         -0.          0.          0.\n",
      "  0.          0.          0.          0.          0.          0.\n",
      "  0.          0.          0.          0.         -0.          0.\n",
      " -0.          0.        ]\n"
     ]
    }
   ],
   "source": [
    "from sklearn.linear_model import Lasso\n",
    "lassoreg = Lasso(alpha=0.001, normalize=True)\n",
    "lassoreg.fit(X_train, y_train)\n",
    "print(lassoreg.coef_)\n",
    "\n",
    "# try alpha=0.01 and examine coefficients\n",
    "lassoreg = Lasso(alpha=0.01, normalize=True)\n",
    "lassoreg.fit(X_train, y_train)\n",
    "print(lassoreg.coef_)"
   ]
  },
  {
   "cell_type": "markdown",
   "metadata": {},
   "source": [
    "### Calculate RSME"
   ]
  },
  {
   "cell_type": "code",
   "execution_count": 8,
   "metadata": {},
   "outputs": [
    {
     "name": "stdout",
     "output_type": "stream",
     "text": [
      "0.19816522542866322\n"
     ]
    }
   ],
   "source": [
    "# calculate RMSE (for alpha=0.01)\n",
    "y_pred = lassoreg.predict(X_test)\n",
    "print(np.sqrt(metrics.mean_squared_error(y_test, y_pred)))"
   ]
  },
  {
   "cell_type": "markdown",
   "metadata": {},
   "source": [
    "## 4.3 LassoCV"
   ]
  },
  {
   "cell_type": "code",
   "execution_count": 9,
   "metadata": {},
   "outputs": [
    {
     "name": "stdout",
     "output_type": "stream",
     "text": [
      "[ 0.          0.          0.         -0.28113506  0.          0.\n",
      "  0.          0.          0.          0.          0.          0.\n",
      " -0.         -0.         -0.         -0.15481092  0.          0.\n",
      " -0.         -0.         -0.         -0.         -0.         -0.\n",
      " -0.          0.         -0.          0.          0.06451487  0.\n",
      "  0.         -0.          0.         -0.         -0.01920421  0.\n",
      "  0.         -0.          0.03386202  0.          0.          0.08901243\n",
      "  0.         -0.08759757 -0.36986917 -0.         -0.         -0.\n",
      " -0.          0.          0.          0.          0.         -0.\n",
      "  0.          0.          0.          0.          0.          0.\n",
      " -0.          0.          0.          0.         -0.          0.\n",
      "  0.         -0.          0.          0.01740599 -0.          0.\n",
      " -0.         -0.          0.          0.          0.          0.\n",
      "  0.         -0.         -0.         -0.         -0.         -0.\n",
      " -0.         -0.          0.         -0.         -0.          0.\n",
      "  0.13471036  0.         -0.         -0.          0.         -0.\n",
      "  0.          0.         -0.          0.          0.          0.\n",
      "  0.0054122   0.         -0.         -0.          0.          0.\n",
      "  0.          0.          0.          0.         -0.          0.\n",
      " -0.          0.          0.02738796  0.         -0.          0.\n",
      " -0.          0.        ]\n"
     ]
    }
   ],
   "source": [
    "from sklearn.linear_model import LassoCV\n",
    "lassoregcv = LassoCV(n_alphas=100, normalize=True, random_state=1)\n",
    "lassoregcv.fit(X_train, y_train)\n",
    "lassoregcv.alpha_\n",
    "\n",
    "# examine the coefficients\n",
    "print(lassoregcv.coef_)"
   ]
  },
  {
   "cell_type": "markdown",
   "metadata": {},
   "source": [
    "### Calculate RSME"
   ]
  },
  {
   "cell_type": "code",
   "execution_count": 10,
   "metadata": {},
   "outputs": [
    {
     "name": "stdout",
     "output_type": "stream",
     "text": [
      "0.1602095580138513\n"
     ]
    }
   ],
   "source": [
    "# predict method uses the best alpha value\n",
    "y_pred = lassoregcv.predict(X_test)\n",
    "print(np.sqrt(metrics.mean_squared_error(y_test, y_pred)))"
   ]
  },
  {
   "cell_type": "markdown",
   "metadata": {},
   "source": [
    "## 4.4  Neural Networks - 1 hidden layer"
   ]
  },
  {
   "cell_type": "code",
   "execution_count": 11,
   "metadata": {},
   "outputs": [],
   "source": [
    "X_train = np.array(train_x)\n",
    "#print(train_x)\n",
    "y_train = np.array(train_y)\n",
    "#print(train_y)"
   ]
  },
  {
   "cell_type": "code",
   "execution_count": 12,
   "metadata": {},
   "outputs": [],
   "source": [
    "scaler = MinMaxScaler(copy=True, feature_range=(0, 1))\n",
    "scaled_trained_samples = scaler.fit_transform(X_train).reshape(-1,1)\n",
    "#print(scaled_trained_samples)"
   ]
  },
  {
   "cell_type": "code",
   "execution_count": 13,
   "metadata": {},
   "outputs": [],
   "source": [
    "model = Sequential([\n",
    "    Dense(16, input_shape=(122,), activation='relu'),\n",
    "    Dense(32, activation='relu'),\n",
    "    Dense(1, activation='sigmoid')\n",
    "])"
   ]
  },
  {
   "cell_type": "code",
   "execution_count": 14,
   "metadata": {},
   "outputs": [
    {
     "name": "stdout",
     "output_type": "stream",
     "text": [
      "_________________________________________________________________\n",
      "Layer (type)                 Output Shape              Param #   \n",
      "=================================================================\n",
      "dense_1 (Dense)              (None, 16)                1968      \n",
      "_________________________________________________________________\n",
      "dense_2 (Dense)              (None, 32)                544       \n",
      "_________________________________________________________________\n",
      "dense_3 (Dense)              (None, 1)                 33        \n",
      "=================================================================\n",
      "Total params: 2,545\n",
      "Trainable params: 2,545\n",
      "Non-trainable params: 0\n",
      "_________________________________________________________________\n"
     ]
    }
   ],
   "source": [
    "model.summary()"
   ]
  },
  {
   "cell_type": "code",
   "execution_count": 15,
   "metadata": {},
   "outputs": [],
   "source": [
    "model.compile(optimizer='Adam', loss='mse', metrics=['mse'])"
   ]
  },
  {
   "cell_type": "code",
   "execution_count": 16,
   "metadata": {},
   "outputs": [
    {
     "name": "stdout",
     "output_type": "stream",
     "text": [
      "Train on 287 samples, validate on 32 samples\n",
      "Epoch 1/10\n",
      "287/287 [==============================] - 0s 163us/step - loss: 0.0787 - mean_squared_error: 0.0787 - val_loss: 0.0696 - val_mean_squared_error: 0.0696\n",
      "Epoch 2/10\n",
      "287/287 [==============================] - 0s 119us/step - loss: 0.0692 - mean_squared_error: 0.0692 - val_loss: 0.0582 - val_mean_squared_error: 0.0582\n",
      "Epoch 3/10\n",
      "287/287 [==============================] - 0s 119us/step - loss: 0.0523 - mean_squared_error: 0.0523 - val_loss: 0.0410 - val_mean_squared_error: 0.0410\n",
      "Epoch 4/10\n",
      "287/287 [==============================] - 0s 112us/step - loss: 0.0374 - mean_squared_error: 0.0374 - val_loss: 0.0335 - val_mean_squared_error: 0.0335\n",
      "Epoch 5/10\n",
      "287/287 [==============================] - 0s 119us/step - loss: 0.0329 - mean_squared_error: 0.0329 - val_loss: 0.0317 - val_mean_squared_error: 0.0317\n",
      "Epoch 6/10\n",
      "287/287 [==============================] - 0s 150us/step - loss: 0.0321 - mean_squared_error: 0.0321 - val_loss: 0.0344 - val_mean_squared_error: 0.0344\n",
      "Epoch 7/10\n",
      "287/287 [==============================] - 0s 129us/step - loss: 0.0281 - mean_squared_error: 0.0281 - val_loss: 0.0316 - val_mean_squared_error: 0.0316\n",
      "Epoch 8/10\n",
      "287/287 [==============================] - 0s 122us/step - loss: 0.0309 - mean_squared_error: 0.0309 - val_loss: 0.0312 - val_mean_squared_error: 0.0312\n",
      "Epoch 9/10\n",
      "287/287 [==============================] - 0s 143us/step - loss: 0.0283 - mean_squared_error: 0.0283 - val_loss: 0.0307 - val_mean_squared_error: 0.0307\n",
      "Epoch 10/10\n",
      "287/287 [==============================] - 0s 160us/step - loss: 0.0277 - mean_squared_error: 0.0277 - val_loss: 0.0306 - val_mean_squared_error: 0.0306\n"
     ]
    },
    {
     "data": {
      "text/plain": [
       "<keras.callbacks.History at 0x137b712b390>"
      ]
     },
     "execution_count": 16,
     "metadata": {},
     "output_type": "execute_result"
    }
   ],
   "source": [
    "model.fit(X_train, y_train, validation_split=0.1, batch_size=10, epochs=10, shuffle=True, verbose=1)"
   ]
  },
  {
   "cell_type": "markdown",
   "metadata": {},
   "source": [
    "### Calculate RMSE"
   ]
  },
  {
   "cell_type": "code",
   "execution_count": 17,
   "metadata": {},
   "outputs": [
    {
     "name": "stdout",
     "output_type": "stream",
     "text": [
      "0.1602095580138513\n"
     ]
    }
   ],
   "source": [
    "print(np.sqrt(metrics.mean_squared_error(y_test, y_pred)))\n",
    "Y1 = np.sqrt(metrics.mean_squared_error(y_test, y_pred))"
   ]
  },
  {
   "cell_type": "markdown",
   "metadata": {},
   "source": [
    "## 4.5  Neural Networks - 2 hidden layers"
   ]
  },
  {
   "cell_type": "code",
   "execution_count": 18,
   "metadata": {},
   "outputs": [],
   "source": [
    "X_train = np.array(train_x)\n",
    "#print(train_x)\n",
    "y_train = np.array(train_y)\n",
    "#print(train_y)"
   ]
  },
  {
   "cell_type": "code",
   "execution_count": 19,
   "metadata": {},
   "outputs": [],
   "source": [
    "scaler = MinMaxScaler(copy=True, feature_range=(0, 1))\n",
    "scaled_trained_samples = scaler.fit_transform(X_train).reshape(-1,1)\n",
    "#print(scaled_trained_samples)"
   ]
  },
  {
   "cell_type": "code",
   "execution_count": 20,
   "metadata": {},
   "outputs": [],
   "source": [
    "model = Sequential([\n",
    "    Dense(16, input_shape=(122,), activation='relu'),\n",
    "    Dense(32, activation='relu'),\n",
    "    Dense(32, activation='relu'),\n",
    "    Dense(1, activation='sigmoid')\n",
    "])"
   ]
  },
  {
   "cell_type": "code",
   "execution_count": 21,
   "metadata": {},
   "outputs": [
    {
     "name": "stdout",
     "output_type": "stream",
     "text": [
      "_________________________________________________________________\n",
      "Layer (type)                 Output Shape              Param #   \n",
      "=================================================================\n",
      "dense_4 (Dense)              (None, 16)                1968      \n",
      "_________________________________________________________________\n",
      "dense_5 (Dense)              (None, 32)                544       \n",
      "_________________________________________________________________\n",
      "dense_6 (Dense)              (None, 32)                1056      \n",
      "_________________________________________________________________\n",
      "dense_7 (Dense)              (None, 1)                 33        \n",
      "=================================================================\n",
      "Total params: 3,601\n",
      "Trainable params: 3,601\n",
      "Non-trainable params: 0\n",
      "_________________________________________________________________\n"
     ]
    }
   ],
   "source": [
    "model.summary()"
   ]
  },
  {
   "cell_type": "code",
   "execution_count": 22,
   "metadata": {},
   "outputs": [],
   "source": [
    "model.compile(optimizer='Adam', loss='mse', metrics=['mse'])"
   ]
  },
  {
   "cell_type": "code",
   "execution_count": 23,
   "metadata": {},
   "outputs": [
    {
     "name": "stdout",
     "output_type": "stream",
     "text": [
      "Train on 287 samples, validate on 32 samples\n",
      "Epoch 1/10\n",
      "287/287 [==============================] - 0s 127us/step - loss: 0.0655 - mean_squared_error: 0.0655 - val_loss: 0.0420 - val_mean_squared_error: 0.0420\n",
      "Epoch 2/10\n",
      "287/287 [==============================] - 0s 164us/step - loss: 0.0387 - mean_squared_error: 0.0387 - val_loss: 0.0253 - val_mean_squared_error: 0.0253\n",
      "Epoch 3/10\n",
      "287/287 [==============================] - 0s 129us/step - loss: 0.0302 - mean_squared_error: 0.0302 - val_loss: 0.0232 - val_mean_squared_error: 0.0232\n",
      "Epoch 4/10\n",
      "287/287 [==============================] - 0s 167us/step - loss: 0.0275 - mean_squared_error: 0.0275 - val_loss: 0.0243 - val_mean_squared_error: 0.0243\n",
      "Epoch 5/10\n",
      "287/287 [==============================] - 0s 136us/step - loss: 0.0260 - mean_squared_error: 0.0260 - val_loss: 0.0231 - val_mean_squared_error: 0.0231\n",
      "Epoch 6/10\n",
      "287/287 [==============================] - 0s 167us/step - loss: 0.0249 - mean_squared_error: 0.0249 - val_loss: 0.0265 - val_mean_squared_error: 0.0265\n",
      "Epoch 7/10\n",
      "287/287 [==============================] - 0s 122us/step - loss: 0.0244 - mean_squared_error: 0.0244 - val_loss: 0.0247 - val_mean_squared_error: 0.0247\n",
      "Epoch 8/10\n",
      "287/287 [==============================] - 0s 132us/step - loss: 0.0246 - mean_squared_error: 0.0246 - val_loss: 0.0290 - val_mean_squared_error: 0.0290\n",
      "Epoch 9/10\n",
      "287/287 [==============================] - 0s 167us/step - loss: 0.0243 - mean_squared_error: 0.0243 - val_loss: 0.0268 - val_mean_squared_error: 0.0268\n",
      "Epoch 10/10\n",
      "287/287 [==============================] - 0s 139us/step - loss: 0.0237 - mean_squared_error: 0.0237 - val_loss: 0.0234 - val_mean_squared_error: 0.0234\n"
     ]
    },
    {
     "data": {
      "text/plain": [
       "<keras.callbacks.History at 0x137b672dbe0>"
      ]
     },
     "execution_count": 23,
     "metadata": {},
     "output_type": "execute_result"
    }
   ],
   "source": [
    "model.fit(X_train, y_train, validation_split=0.1, batch_size=10, epochs=10, shuffle=True, verbose=1)"
   ]
  },
  {
   "cell_type": "markdown",
   "metadata": {},
   "source": [
    "### Calculate RMSE"
   ]
  },
  {
   "cell_type": "code",
   "execution_count": 24,
   "metadata": {},
   "outputs": [
    {
     "name": "stdout",
     "output_type": "stream",
     "text": [
      "0.1602095580138513\n"
     ]
    }
   ],
   "source": [
    "print(np.sqrt(metrics.mean_squared_error(y_test, y_pred)))\n",
    "Y2 = np.sqrt(metrics.mean_squared_error(y_test, y_pred))"
   ]
  },
  {
   "cell_type": "markdown",
   "metadata": {},
   "source": [
    "## 4.6  Neural Networks - 2 hidden layers, x2 hidden nodes"
   ]
  },
  {
   "cell_type": "code",
   "execution_count": 25,
   "metadata": {},
   "outputs": [],
   "source": [
    "X_train = np.array(train_x)\n",
    "#print(train_x)\n",
    "y_train = np.array(train_y)\n",
    "#print(train_y)"
   ]
  },
  {
   "cell_type": "code",
   "execution_count": 26,
   "metadata": {},
   "outputs": [],
   "source": [
    "scaler = MinMaxScaler(copy=True, feature_range=(0, 1))\n",
    "scaled_trained_samples = scaler.fit_transform(X_train).reshape(-1,1)\n",
    "#print(scaled_trained_samples)"
   ]
  },
  {
   "cell_type": "code",
   "execution_count": 27,
   "metadata": {},
   "outputs": [],
   "source": [
    "model = Sequential([\n",
    "    Dense(16, input_shape=(122,), activation='relu'),\n",
    "    Dense(64, activation='relu'),\n",
    "    Dense(64, activation='relu'),\n",
    "    Dense(1, activation='sigmoid')\n",
    "])"
   ]
  },
  {
   "cell_type": "code",
   "execution_count": 28,
   "metadata": {},
   "outputs": [
    {
     "name": "stdout",
     "output_type": "stream",
     "text": [
      "_________________________________________________________________\n",
      "Layer (type)                 Output Shape              Param #   \n",
      "=================================================================\n",
      "dense_8 (Dense)              (None, 16)                1968      \n",
      "_________________________________________________________________\n",
      "dense_9 (Dense)              (None, 64)                1088      \n",
      "_________________________________________________________________\n",
      "dense_10 (Dense)             (None, 64)                4160      \n",
      "_________________________________________________________________\n",
      "dense_11 (Dense)             (None, 1)                 65        \n",
      "=================================================================\n",
      "Total params: 7,281\n",
      "Trainable params: 7,281\n",
      "Non-trainable params: 0\n",
      "_________________________________________________________________\n"
     ]
    }
   ],
   "source": [
    "model.summary()"
   ]
  },
  {
   "cell_type": "code",
   "execution_count": 29,
   "metadata": {},
   "outputs": [],
   "source": [
    "model.compile(optimizer='Adam', loss='mse', metrics=['mse'])"
   ]
  },
  {
   "cell_type": "code",
   "execution_count": 30,
   "metadata": {},
   "outputs": [
    {
     "name": "stdout",
     "output_type": "stream",
     "text": [
      "Train on 287 samples, validate on 32 samples\n",
      "Epoch 1/10\n",
      "287/287 [==============================] - 0s 189us/step - loss: 0.0674 - mean_squared_error: 0.0674 - val_loss: 0.0496 - val_mean_squared_error: 0.0496\n",
      "Epoch 2/10\n",
      "287/287 [==============================] - 0s 171us/step - loss: 0.0436 - mean_squared_error: 0.0436 - val_loss: 0.0295 - val_mean_squared_error: 0.0295\n",
      "Epoch 3/10\n",
      "287/287 [==============================] - 0s 160us/step - loss: 0.0332 - mean_squared_error: 0.0332 - val_loss: 0.0271 - val_mean_squared_error: 0.0271\n",
      "Epoch 4/10\n",
      "287/287 [==============================] - 0s 146us/step - loss: 0.0320 - mean_squared_error: 0.0320 - val_loss: 0.0271 - val_mean_squared_error: 0.0271\n",
      "Epoch 5/10\n",
      "287/287 [==============================] - 0s 202us/step - loss: 0.0288 - mean_squared_error: 0.0288 - val_loss: 0.0283 - val_mean_squared_error: 0.0283\n",
      "Epoch 6/10\n",
      "287/287 [==============================] - 0s 167us/step - loss: 0.0263 - mean_squared_error: 0.0263 - val_loss: 0.0282 - val_mean_squared_error: 0.0282\n",
      "Epoch 7/10\n",
      "287/287 [==============================] - 0s 126us/step - loss: 0.0268 - mean_squared_error: 0.0268 - val_loss: 0.0261 - val_mean_squared_error: 0.0261\n",
      "Epoch 8/10\n",
      "287/287 [==============================] - 0s 178us/step - loss: 0.0247 - mean_squared_error: 0.0247 - val_loss: 0.0261 - val_mean_squared_error: 0.0261\n",
      "Epoch 9/10\n",
      "287/287 [==============================] - 0s 157us/step - loss: 0.0240 - mean_squared_error: 0.0240 - val_loss: 0.0258 - val_mean_squared_error: 0.0258\n",
      "Epoch 10/10\n",
      "287/287 [==============================] - 0s 199us/step - loss: 0.0237 - mean_squared_error: 0.0237 - val_loss: 0.0257 - val_mean_squared_error: 0.0257\n"
     ]
    },
    {
     "data": {
      "text/plain": [
       "<keras.callbacks.History at 0x137b84082b0>"
      ]
     },
     "execution_count": 30,
     "metadata": {},
     "output_type": "execute_result"
    }
   ],
   "source": [
    "Z = np.array([0.1, 0.2, 0.3, 0.4, 0.5, 0.6, 0.7, 0.8, 0.9, 1.0])\n",
    "model.fit(X_train, y_train, validation_split=0.1, batch_size=len(Z), epochs=10, shuffle=True, verbose=1)"
   ]
  },
  {
   "cell_type": "markdown",
   "metadata": {},
   "source": [
    "### Calculate RMSE"
   ]
  },
  {
   "cell_type": "code",
   "execution_count": 31,
   "metadata": {},
   "outputs": [
    {
     "name": "stdout",
     "output_type": "stream",
     "text": [
      "0.1602095580138513\n"
     ]
    }
   ],
   "source": [
    "print(np.sqrt(metrics.mean_squared_error(y_test, y_pred)))\n",
    "Y3 = np.sqrt(metrics.mean_squared_error(y_test, y_pred))"
   ]
  },
  {
   "cell_type": "markdown",
   "metadata": {},
   "source": [
    "# 5.0 ENSEMBLE MODEL"
   ]
  },
  {
   "cell_type": "markdown",
   "metadata": {},
   "source": [
    "## 5.1 GradientBoostingRegressor "
   ]
  },
  {
   "cell_type": "code",
   "execution_count": 32,
   "metadata": {},
   "outputs": [],
   "source": [
    "#import numpy as np\n",
    "#import pandas as pd\n",
    "#from sklearn import datasets\n",
    "#import matplotlib.pyplot as plt \n",
    "#from sklearn.utils import shuffle\n",
    "#from sklearn import ensemble\n",
    "#from sklearn.metrics import mean_squared_error\n",
    "#from sklearn.preprocessing import MinMaxScaler\n",
    "#from keras.metrics import categorical_crossentropy"
   ]
  },
  {
   "cell_type": "code",
   "execution_count": 33,
   "metadata": {},
   "outputs": [],
   "source": [
    "url = 'http://archive.ics.uci.edu/ml/machine-learning-databases/communities/communities.data'\n",
    "train_data = pd.read_csv(url, header=None, na_values=['?'])\n",
    "train_data.head()\n",
    "train_data[127].describe()\n",
    "train_data.drop([0, 1, 2, 3, 4], axis=1, inplace=True)\n",
    "train_data.dropna(inplace=True)\n",
    "train_data.shape\n",
    "train_x = train_data.drop(127, axis=1)\n",
    "#print(train_x)\n",
    "#print(train_x.shape)\n",
    "train_y = train_data[127]\n",
    "#print(train_y)\n",
    "#print(train_y.shape)"
   ]
  },
  {
   "cell_type": "code",
   "execution_count": 34,
   "metadata": {},
   "outputs": [
    {
     "data": {
      "image/png": "[encoded data removed]",
      "text/plain": [
       "<matplotlib.figure.Figure at 0x137b851cf60>"
      ]
     },
     "metadata": {},
     "output_type": "display_data"
    }
   ],
   "source": [
    "X, y = shuffle(train_x, train_y, random_state=13)\n",
    "X = X.astype(np.float32)\n",
    "offset = int(X.shape[0] * 0.9)\n",
    "X_train, y_train = X[:offset], y[:offset]\n",
    "X_test, y_test = X[offset:], y[offset:]\n",
    "\n",
    "# #############################################################################\n",
    "# Fit regression model\n",
    "params = {'n_estimators': 500, 'max_depth': 4, 'min_samples_split': 2,\n",
    "          'learning_rate': 0.01, 'loss': 'ls'}\n",
    "clf = ensemble.GradientBoostingRegressor(**params)\n",
    "\n",
    "clf.fit(X_train, y_train)\n",
    "#mse = mean_squared_error(y_test, clf.predict(X_test))\n",
    "#print(\"MSE: %.4f\" % mse)\n",
    "\n",
    "# #############################################################################\n",
    "# Plot training deviance\n",
    "\n",
    "# compute test set deviance\n",
    "test_score = np.zeros((params['n_estimators'],), dtype=np.float64)\n",
    "\n",
    "for i, y_pred in enumerate(clf.staged_predict(X_test)):\n",
    "    test_score[i] = clf.loss_(y_test, y_pred)\n",
    "\n",
    "plt.figure(figsize=(12, 6))\n",
    "plt.subplot(1, 2, 1)\n",
    "plt.title('Deviance')\n",
    "plt.plot(np.arange(params['n_estimators']) + 1, clf.train_score_, 'b-',\n",
    "         label='Training Set Deviance')\n",
    "plt.plot(np.arange(params['n_estimators']) + 1, test_score, 'r-',\n",
    "         label='Test Set Deviance')\n",
    "plt.legend(loc='upper right')\n",
    "plt.xlabel('Boosting Iterations')\n",
    "plt.ylabel('Deviance')\n",
    "\n",
    "# #############################################################################\n",
    "# Plot feature importance\n",
    "feature_importance = clf.feature_importances_\n",
    "# make importances relative to max importance\n",
    "feature_importance = 100.0 * (feature_importance / feature_importance.max())\n",
    "sorted_idx = np.argsort(feature_importance)\n",
    "pos = np.arange(sorted_idx.shape[0]) + .5\n",
    "plt.subplot(1, 2, 2)\n",
    "plt.barh(pos, feature_importance[sorted_idx], align='center')\n",
    "plt.yticks(pos, [\"ViolentCrimesPerPop numeric\"])\n",
    "plt.xlabel('Relative Importance')\n",
    "plt.title('Variable Importance')\n",
    "plt.show()"
   ]
  },
  {
   "cell_type": "markdown",
   "metadata": {},
   "source": [
    "### Calculate RMSE"
   ]
  },
  {
   "cell_type": "code",
   "execution_count": 35,
   "metadata": {},
   "outputs": [
    {
     "data": {
      "text/plain": [
       "0.17731746145474125"
      ]
     },
     "execution_count": 35,
     "metadata": {},
     "output_type": "execute_result"
    }
   ],
   "source": [
    "np.sqrt(mean_squared_error(y_test, clf.predict(X_test)))"
   ]
  },
  {
   "cell_type": "markdown",
   "metadata": {},
   "source": [
    "## 5.2 Ensemble of 3 NN Models (4.4, 4.5, 4.6)"
   ]
  },
  {
   "cell_type": "code",
   "execution_count": 36,
   "metadata": {},
   "outputs": [],
   "source": [
    "Ensemble_predict = (Y1 + Y2 + Y3) / 3"
   ]
  },
  {
   "cell_type": "code",
   "execution_count": 37,
   "metadata": {},
   "outputs": [
    {
     "name": "stdout",
     "output_type": "stream",
     "text": [
      "0.1602095580138513\n"
     ]
    }
   ],
   "source": [
    "print(Ensemble_predict)"
   ]
  }
 ],
 "metadata": {
  "kernelspec": {
   "display_name": "Python 3",
   "language": "python",
   "name": "python3"
  },
  "language_info": {
   "codemirror_mode": {
    "name": "ipython",
    "version": 3
   },
   "file_extension": ".py",
   "mimetype": "text/x-python",
   "name": "python",
   "nbconvert_exporter": "python",
   "pygments_lexer": "ipython3",
   "version": "3.6.4"
  }
 },
 "nbformat": 4,
 "nbformat_minor": 2
}
